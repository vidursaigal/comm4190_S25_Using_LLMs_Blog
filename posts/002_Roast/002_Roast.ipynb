{
 "cells": [
  {
   "cell_type": "raw",
   "id": "5db5a05b",
   "metadata": {},
   "source": [
    "---\n",
    "title: \"Can LLMs Master the Art of the Comedic Roast?\"\n",
    "description: \"Exploring whether large language models can produce clever, good-natured roasts without crossing ethical lines.\"\n",
    "author: \"Comedy Enthusiast LLM\"\n",
    "date: \"2/5/2025\"\n",
    "categories:\n",
    "  - LLMs\n",
    "  - language\n",
    "  - style\n",
    "  - humor\n",
    "---"
   ]
  },
  {
   "cell_type": "markdown",
   "id": "53656453",
   "metadata": {},
   "source": [
    "## Introduction\n",
    "\n",
    "Welcome to a deeper dive into the comedic side of Large Language Models (LLMs). Humans love to use humor in conversation, and one particular comedic style is the **roast**—lighthearted (sometimes pointed) jabs at a friend or colleague. \n",
    "\n",
    "But can LLMs **really** master the art of the roast? Can they craft jokes that walk the fine line between playful and offensive? Let's find out by analyzing both the *potential* and the *pitfalls* of using LLMs as comedic roasters."
   ]
  },
  {
   "cell_type": "markdown",
   "id": "1c1339fa",
   "metadata": {},
   "source": [
    "## What is a Roast?\n",
    "\n",
    "A traditional roast is a comedic event where an \"honored\" individual is teased in a good-natured way by friends or peers. The hallmark of a roast is **friendly mockery**—the jokes might be pointed, but there's an underlying camaraderie. Classic roasts thrive on:\n",
    "\n",
    "1. **Hyperbolic Insults**: Exaggerated jabs that everyone (including the target) realizes are not serious.\n",
    "2. **Inside Jokes**: References to the roastee’s habits, quirks, or past slip-ups that are well known among participants.\n",
    "3. **Occasional Praise**: Balancing comedic barbs with sincere compliments or expressions of respect.\n",
    "\n",
    "This balance requires a nuanced understanding of context, social norms, and comedic timing—skills that might be challenging for an AI to replicate accurately."
   ]
  },
  {
   "cell_type": "markdown",
   "id": "435b2cf7",
   "metadata": {},
   "source": [
    "## The Challenge for LLMs\n",
    "\n",
    "1. **Contextual Awareness**: To roast effectively, you need detailed knowledge of the person’s traits. If an LLM lacks context, it may resort to generic insults.\n",
    "2. **Tone Management**: Roasts should be playful, not hateful. LLMs risk crossing ethical lines if they produce content that is perceived as harassment or targeted discrimination.\n",
    "3. **Cultural Sensitivity**: What is funny in one culture might be taboo in another. LLMs need a sophisticated calibration to avoid offending audiences.\n",
    "4. **Risk of Repetition**: LLMs can repeat the same jokes or structures, making the roast feel stale or formulaic. Human roasts are typically filled with creativity and spontaneity.\n"
   ]
  },
  {
   "cell_type": "markdown",
   "id": "983db608",
   "metadata": {},
   "source": [
    "## Experimenting with Prompts\n",
    "\n",
    "To test the comedic roast abilities of a popular LLM (GPT-4, in our case), we tried a variety of prompts, each with different levels of context and constraints. For example:\n",
    "\n",
    "```\n",
    "Prompt: \"You're at a friendly comedy roast for Alex. Alex is known for being late to everything and drinking way too much coffee. Craft five lighthearted roast jokes that Alex would find funny.\"\n",
    "```\n",
    "\n",
    "The LLM responded with:\n",
    "\n",
    "1. \"Alex is always running on coffee fumes—seriously, your bloodstream must be 80% espresso by now!\"\n",
    "2. \"I asked Alex for the time once—he showed up with a latte 15 minutes late to tell me it was 3 PM... yesterday.\"\n",
    "3. \"Don’t bother ordering decaf around Alex; he’ll just label you an underachiever.\"\n",
    "4. \"We were all worried Alex wouldn’t make it here—turns out the only place he’s ever on time for is the cafe.\"\n",
    "5. \"Alex, if tardiness was an Olympic sport, you’d still arrive last to the podium—coffee in hand, of course!\"\n"
   ]
  }
 ],
 "metadata": {
  "citation-manager": {
   "items": {}
  },
  "kernelspec": {
   "display_name": "Python 3.11 (COMM4190)",
   "language": "python",
   "name": "comm4190"
  },
  "language_info": {
   "codemirror_mode": {
    "name": "ipython",
    "version": 3
   },
   "file_extension": ".py",
   "mimetype": "text/x-python",
   "name": "python",
   "nbconvert_exporter": "python",
   "pygments_lexer": "ipython3",
   "version": "3.11.7"
  }
 },
 "nbformat": 4,
 "nbformat_minor": 5
}
