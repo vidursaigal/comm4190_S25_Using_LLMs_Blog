{
 "cells": [
  {
   "cell_type": "raw",
   "id": "c8e75d27",
   "metadata": {},
   "source": [
    "---\n",
    "title: \"Can LLMs Master Cryptic Clues?\"\n",
    "description: \"Testing whether large language models can craft and solve cryptic crossword clues\"\n",
    "author: \"Creative LLM Explorer\"\n",
    "date: \"2/3/2025\"\n",
    "categories:\n",
    "  - LLMs\n",
    "  - language\n",
    "  - reasoning\n",
    "  - cryptic_crosswords\n",
    "---"
   ]
  },
  {
   "cell_type": "markdown",
   "id": "b4c98917",
   "metadata": {},
   "source": [
    "## Introduction\n",
    "\n",
    "For many puzzle enthusiasts, **cryptic crosswords** represent the pinnacle of clever wordplay. Crafting (and solving) cryptic clues requires two parts:\n",
    "\n",
    "1. A **definition** of the answer\n",
    "2. A **wordplay** hint (an anagram, hidden word, or another playful manipulation)\n",
    "\n",
    "These two components are typically combined in a single short clue, creating a riddle that demands careful linguistic or logical parsing. The question we want to answer in this post is:\n",
    "\n",
    "> **Can a Large Language Model (LLM) craft valid cryptic clues that both define the word and present correct wordplay?**\n",
    "\n",
    "Additionally, we will see if an LLM can interpret the rationale behind cryptic clues—essentially, can it solve them and provide a breakdown of the wordplay?\n"
   ]
  },
  {
   "cell_type": "markdown",
   "id": "275c28fe",
   "metadata": {},
   "source": [
    "## Background on Cryptic Clues\n",
    "\n",
    "A traditional (UK-style) cryptic clue has:\n",
    "\n",
    "1. **Definition part**: A direct definition of the solution word/phrase (similar to a standard crossword clue).\n",
    "2. **Wordplay part**: A set of instructions for how to manipulate letters (anagrams, hidden words, homophones, reversals, etc.) to arrive at the same solution.\n",
    "\n",
    "For example, a classic short cryptic clue is:\n",
    "\n",
    "> *Doctor in short supply (3)*\n",
    "\n",
    "- The answer is `DOC`.\n",
    "- **Definition**: \"Doctor\" is the direct definition for \"doc\".\n",
    "- **Wordplay**: \"in short supply\" is instructing us to take \"supply\" and shorten it (`suppl`) or notice that \"in short\" might be indicating to chop off the last letters. The exact mechanism can vary depending on style, but it usually references a form of truncation or pun.\n"
   ]
  },
  {
   "cell_type": "markdown",
   "id": "0be9158c",
   "metadata": {
    "jp-MarkdownHeadingCollapsed": true
   },
   "source": [
    "## Prompting an LLM to Create Cryptic Clues\n",
    "\n",
    "We experimented with prompting a well-known LLM (we used GPT-4 in this case, but you can attempt similar prompts with other models). Our prompt was structured to explain the concept:\n",
    "\n",
    "> \"Please create a cryptic crossword clue for the word **ACME**. The clue must include a definition and a wordplay segment, in typical cryptic style.\"\n",
    "\n",
    "### GPT-4's Response\n",
    "\n",
    "```\n",
    "A top tip for Emily’s company (4)\n",
    "```\n",
    "\n",
    "**Proposed Explanation**:\n",
    "- **Definition**: \"A top\" is a concise definition for ACME (meaning the highest point).\n",
    "- **Wordplay**: \"tip for Emily’s company\" might be instructing us to take the first letter (tip) of \"Emily\" (E) plus a synonym for \"company\" (e.g., C0 for 'Co.'?), forming \"E + C0\" = \"EC0\"? That’s not exactly ACME. \n"
   ]
  },
  {
   "cell_type": "markdown",
   "id": "08875868",
   "metadata": {},
   "source": [
    "## Conclusion\n",
    "\n",
    "- **LLMs can approximate** cryptic crossword clue styles, especially if you provide instructions on structure and examples.\n",
    "- **Accuracy varies**: Some attempts fail to connect the wordplay steps properly, indicating the complexity of cryptic logic.\n",
    "- **Chain-of-Thought**: When asked to *explain* the solution, LLMs often give plausible justifications, demonstrating how they might parse the puzzle.\n",
    "\n",
    "Ultimately, cryptic crosswords demand *exactness* in logic, and LLMs are still prone to small mistakes in letter manipulation or wordplay instructions. However, with iterative prompts and examples, they can learn to craft passable (sometimes even excellent) cryptic clues—and solve them!\n",
    "\n"
   ]
  }
 ],
 "metadata": {
  "citation-manager": {
   "items": {}
  },
  "kernelspec": {
   "display_name": "Python 3 (ipykernel)",
   "language": "python",
   "name": "python3"
  },
  "language_info": {
   "codemirror_mode": {
    "name": "ipython",
    "version": 3
   },
   "file_extension": ".py",
   "mimetype": "text/x-python",
   "name": "python",
   "nbconvert_exporter": "python",
   "pygments_lexer": "ipython3",
   "version": "3.10.12"
  }
 },
 "nbformat": 4,
 "nbformat_minor": 5
}
